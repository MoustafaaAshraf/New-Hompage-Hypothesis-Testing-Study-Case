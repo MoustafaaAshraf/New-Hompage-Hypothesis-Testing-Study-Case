{
 "cells": [
  {
   "cell_type": "markdown",
   "id": "architectural-murray",
   "metadata": {
    "toc": true
   },
   "source": [
    "<h1>Table of Contents<span class=\"tocSkip\"></span></h1>\n",
    "<div class=\"toc\"><ul class=\"toc-item\"><li><span><a href=\"#Scenario\" data-toc-modified-id=\"Scenario-1\"><span class=\"toc-item-num\">1&nbsp;&nbsp;</span>Scenario</a></span></li><li><span><a href=\"#Specifying-the-Objective-of-the-study\" data-toc-modified-id=\"Specifying-the-Objective-of-the-study-2\"><span class=\"toc-item-num\">2&nbsp;&nbsp;</span>Specifying the Objective of the study</a></span></li><li><span><a href=\"#Workflow\" data-toc-modified-id=\"Workflow-3\"><span class=\"toc-item-num\">3&nbsp;&nbsp;</span>Workflow</a></span></li><li><span><a href=\"#Website-Structure\" data-toc-modified-id=\"Website-Structure-4\"><span class=\"toc-item-num\">4&nbsp;&nbsp;</span>Website Structure</a></span></li><li><span><a href=\"#Building-Experiment-Funnel\" data-toc-modified-id=\"Building-Experiment-Funnel-5\"><span class=\"toc-item-num\">5&nbsp;&nbsp;</span>Building Experiment Funnel</a></span></li><li><span><a href=\"#Unit-Of-Diversion\" data-toc-modified-id=\"Unit-Of-Diversion-6\"><span class=\"toc-item-num\">6&nbsp;&nbsp;</span>Unit Of Diversion</a></span></li><li><span><a href=\"#Choosing-Metrics\" data-toc-modified-id=\"Choosing-Metrics-7\"><span class=\"toc-item-num\">7&nbsp;&nbsp;</span>Choosing Metrics</a></span><ul class=\"toc-item\"><li><ul class=\"toc-item\"><li><span><a href=\"#The-Invariant-Mertic\" data-toc-modified-id=\"The-Invariant-Mertic-7.0.1\"><span class=\"toc-item-num\">7.0.1&nbsp;&nbsp;</span>The Invariant Mertic</a></span></li><li><span><a href=\"#Evaluation-Metrics\" data-toc-modified-id=\"Evaluation-Metrics-7.0.2\"><span class=\"toc-item-num\">7.0.2&nbsp;&nbsp;</span>Evaluation Metrics</a></span></li></ul></li></ul></li><li><span><a href=\"#Experiment-Feasability\" data-toc-modified-id=\"Experiment-Feasability-8\"><span class=\"toc-item-num\">8&nbsp;&nbsp;</span>Experiment Feasability</a></span><ul class=\"toc-item\"><li><ul class=\"toc-item\"><li><span><a href=\"#Current-Layout-Statistics\" data-toc-modified-id=\"Current-Layout-Statistics-8.0.1\"><span class=\"toc-item-num\">8.0.1&nbsp;&nbsp;</span>Current Layout Statistics</a></span></li><li><span><a href=\"#Experiment-Type-I-error-&amp;-Bonferroni-Correction\" data-toc-modified-id=\"Experiment-Type-I-error-&amp;-Bonferroni-Correction-8.0.2\"><span class=\"toc-item-num\">8.0.2&nbsp;&nbsp;</span>Experiment Type I error &amp; Bonferroni Correction</a></span></li></ul></li></ul></li><li><span><a href=\"#Suitable-Experiment-to-detect-changes-in-downloads\" data-toc-modified-id=\"Suitable-Experiment-to-detect-changes-in-downloads-9\"><span class=\"toc-item-num\">9&nbsp;&nbsp;</span>Suitable Experiment to detect changes in downloads</a></span></li><li><span><a href=\"#Suitable-Experiment-to-detect-changes-in-License-purchasing\" data-toc-modified-id=\"Suitable-Experiment-to-detect-changes-in-License-purchasing-10\"><span class=\"toc-item-num\">10&nbsp;&nbsp;</span>Suitable Experiment to detect changes in License purchasing</a></span></li><li><span><a href=\"#Invariant-Metric\" data-toc-modified-id=\"Invariant-Metric-11\"><span class=\"toc-item-num\">11&nbsp;&nbsp;</span>Invariant Metric</a></span></li><li><span><a href=\"#Evaluation-Metrics\" data-toc-modified-id=\"Evaluation-Metrics-12\"><span class=\"toc-item-num\">12&nbsp;&nbsp;</span>Evaluation Metrics</a></span><ul class=\"toc-item\"><li><ul class=\"toc-item\"><li><span><a href=\"#Downloads-Significance\" data-toc-modified-id=\"Downloads-Significance-12.0.1\"><span class=\"toc-item-num\">12.0.1&nbsp;&nbsp;</span>Downloads Significance</a></span></li><li><span><a href=\"#Purchasing-Significance\" data-toc-modified-id=\"Purchasing-Significance-12.0.2\"><span class=\"toc-item-num\">12.0.2&nbsp;&nbsp;</span>Purchasing Significance</a></span></li></ul></li></ul></li><li><span><a href=\"#Draw-Conclusions\" data-toc-modified-id=\"Draw-Conclusions-13\"><span class=\"toc-item-num\">13&nbsp;&nbsp;</span>Draw Conclusions</a></span></li></ul></div>"
   ]
  },
  {
   "cell_type": "markdown",
   "id": "photographic-brooks",
   "metadata": {},
   "source": [
    "# Homepage Introduction Study Case\n",
    "\n",
    "## Scenario\n",
    "\n",
    "- Productivity software company that is looking for ways to increase the number of people who pay for their software. The way that the software is currently set up, users can download and use the software free of charge, for a 7-day trial. After the end of the trial, users are required to pay for a license to continue using the software. \n",
    "\n",
    "\n",
    "- One idea that the company wants to try is to change the layout of the homepage to emphasize more prominently and higher up on the page that there is a 7-day trial available for the company's software. The current fear is that some potential users are missing out on using the software because of a lack of awareness of the trial period. If more people download the software and use it in the trial period, the hope is that this entices more people to make a purchase after seeing what the software can do.\n",
    "\n",
    "## Specifying the Objective of the study\n",
    "\n",
    "- Does changing the structure of the homepage would increase the number of downloads of the software and, ultimately, the number of purchases of the software.\n",
    "\n",
    "## Workflow\n",
    "\n",
    "- In this case study, I will go through the whole process of setting up a hypothesis testing scenario to know scientifically if the the new homepage is worth implementing or not.\n",
    "\n",
    "- The steps to perform the study case are as follows:\n",
    "> 1. Constructing a user funnel and deciding on metrics to track.\n",
    "> 2. Experiment sizing with regard to how the traffic rate and the period of the experiment.\n",
    "> 3. Perform statistical tests to analyze the results.\n",
    "> 4. Constructing conclusions.\n",
    "\n",
    "## Website Structure\n",
    "\n",
    "- The website has 5 main sections:\n",
    "> 1. The homepage\n",
    "> 2. Additional information section, gallery, and examples.\n",
    "> 3. Download page.\n",
    "> 4. Purchasing page.\n",
    "> 5. Support and FAQs.\n",
    "\n",
    "\n",
    "- To download the software, the user is required to create an account, which allows using for 7 days. After the 7 days, the software would bring up a message that takes the user to the Purchasing page.\n",
    "\n",
    "## Building Experiment Funnel\n",
    "\n",
    "- Expected Flow of users:\n",
    "> 1. Visit Homepage\n",
    "> 2. Visit download page\n",
    "> 3. Creating an account\n",
    "> 4. Downloading the software\n",
    "> 5. After 7 days trial, user is directed to license purchasing page.\n",
    "> 6. Purchasing software license\n",
    "\n",
    "- There could be unexpected use route that is not within the expected flow. Anticipating scenarios like this can be useful for planning the design, and coming up with metrics that come as close as possible to measuring desired effects. \n",
    "\n",
    "## Unit Of Diversion\n",
    "\n",
    "- From our user funnel, we choose our metrics and how they are measured.\n",
    "- To assure Contruct Validity of the experiment, the participants are split into experiment and control groups. \n",
    "- The point of splitting up the participants, called, Unit Of Diversion, which would be **cookie-based diversion**.\n",
    "\n",
    "\n",
    "## Choosing Metrics\n",
    "\n",
    "#### The Invariant Mertic\n",
    "\n",
    "- **The number of cookies that hit the homepage**.\n",
    "- If we've done things correctly, each visitor should have an equal chance of seeing each homepage, and that means that the number of cookies assigned to each group should be about the same. Since visitors come in without any additional information (e.g. account info) and the change effected by the experimental manipulation comes in right at the start, there aren't other invariant metrics we should worry about.\n",
    "\n",
    "#### Evaluation Metrics\n",
    "\n",
    "- It pretty intutive to take evaluation metric based on counts, count of download or counts of purchases, though we expect the number of cookies assigned to each group to be about the same, it's much more likely than not they they won't be exactly the same.\n",
    "\n",
    "- Instead, we should prefer using the **download rate (# downloads / # cookies)** and **purchase rate (# licenses / # cookies)** relative to the number of cookies as evaluation metrics. Using these ratios allows us to account for slight imbalances between groups.\n",
    "\n",
    "## Experiment Feasability\n",
    "\n",
    "\n",
    "#### Current Layout Statistics\n",
    "\n",
    "- looking at the feasibility of the experiment in terms of the amount of time it will take to run, We can use historical data as a baseline to see what it might take to detect our desired levels of change.\n",
    "\n",
    "- Recent history shows that there are about **3250 unique visitors per day**, with slightly more visitors on Friday through Monday, than the rest of the week. There are about **520 software downloads per day (a .16 rate)** and about **65 licenses purchased each day (a .02 rate)**. In an ideal case, both the download rate and license purchase rate should increase with the new homepage; a statistically significant negative change should be a sign to not deploy the homepage change. However, if only one of our metrics shows a statistically significant positive change we should be happy enough to deploy the new homepage.\n",
    "\n",
    "- Experiment Running time would be done using Python. \n",
    "- The calculations have shown that to detect reasonable change in downloads, 10907 visitors should be testing in each group. According to the average traffic on the website, on most of the days the site receives 3250 visitors, which makes the experiment running time for downloads is 6 days.\n",
    "- However, to detect reasnable changes in the Purchasing rates, for a change would be so tiny, the experiment needs to be run for 21 days. \n",
    "\n",
    "#### Experiment Type I error & Bonferroni Correction\n",
    "\n",
    "- Because we have two evaluation metrics of interest, we should make sure that we are choosing an appropriate significance level to conduct each test, in order to preserve a maximum overall Type I error rate of .05. Since we would be happy to deploy the new homepage if either download rate or license purchase rate showed a statistically significant increase, performing both individual tests at a **.05 error rate** carries the risk of making too many Type I errors. As such, we'll apply the Bonferroni correction to run each test at a **.025 error rate** so as to protect against making too many errors. If it were the case that we needed to see both metrics with a statistically significant increase, then we wouldn't need to include the correction on the individual tests.\n",
    "\n",
    "- As the most common sought for **test power is 80%**, we also should utilize that. \n",
    "\n"
   ]
  },
  {
   "cell_type": "markdown",
   "id": "pacific-manor",
   "metadata": {},
   "source": [
    "# Experiment Running Time"
   ]
  },
  {
   "cell_type": "code",
   "execution_count": 37,
   "id": "accepted-container",
   "metadata": {},
   "outputs": [],
   "source": [
    "df = pd.read_csv('homepage-experiment-data.csv')"
   ]
  },
  {
   "cell_type": "code",
   "execution_count": 38,
   "id": "limiting-penetration",
   "metadata": {},
   "outputs": [],
   "source": [
    "# import packages\n",
    "import numpy as np\n",
    "import scipy.stats as stats\n",
    "import pandas as pd\n",
    "import matplotlib.pyplot as plt\n",
    "%matplotlib inline"
   ]
  },
  {
   "cell_type": "code",
   "execution_count": 39,
   "id": "requested-wednesday",
   "metadata": {},
   "outputs": [],
   "source": [
    "def experiment_size(p_null, p_alt, alpha = .05, beta = .20):\n",
    "    \"\"\"\n",
    "    Compute the minimum number of samples needed to achieve a desired power\n",
    "    level for a given effect size.\n",
    "    \n",
    "    Input parameters:\n",
    "        p_null: base success rate under null hypothesis\n",
    "        p_alt : desired success rate to be detected\n",
    "        alpha : Type-I error rate\n",
    "        beta  : Type-II error rate\n",
    "    \n",
    "    Output value:\n",
    "        n : Number of samples required for each group to obtain desired power\n",
    "    \"\"\"\n",
    "    \n",
    "    # Get necessary z-scores and standard deviations (@ 1 obs per group)\n",
    "    z_null = stats.norm.ppf(1 - alpha)\n",
    "    z_alt  = stats.norm.ppf(beta)\n",
    "    sd_null = np.sqrt(p_null * (1-p_null) + p_null * (1-p_null))\n",
    "    sd_alt  = np.sqrt(p_null * (1-p_null) + p_alt  * (1-p_alt) )\n",
    "    \n",
    "    # Compute and return minimum sample size\n",
    "    p_diff = p_alt - p_null\n",
    "    n = ((z_null*sd_null - z_alt*sd_alt) / p_diff) ** 2\n",
    "    return np.ceil(n)"
   ]
  },
  {
   "cell_type": "markdown",
   "id": "marked-transport",
   "metadata": {},
   "source": [
    "## Suitable Experiment to detect changes in downloads\n",
    "\n",
    "- Let's say that we want to detect an increase of 50 downloads per day (up to 570 per day, or a .175 rate). How many days of data would we need to collect in order to get enough visitors to detect this new rate at an overall 5% Type I error rate and at 80% power?"
   ]
  },
  {
   "cell_type": "code",
   "execution_count": 40,
   "id": "thousand-vegetarian",
   "metadata": {},
   "outputs": [
    {
     "data": {
      "text/plain": [
       "5.834461538461539"
      ]
     },
     "execution_count": 40,
     "metadata": {},
     "output_type": "execute_result"
    }
   ],
   "source": [
    "average_visitors_per_day = 3250\n",
    "visitors = experiment_size(0.16, 0.175, 0.025, 0.2) * 2\n",
    "# Number of visitors should be multiplied by 2, the recommended size \n",
    "# should be for the two conditions.\n",
    "days = visitors / 3250\n",
    "# 6 days\n",
    "days"
   ]
  },
  {
   "cell_type": "markdown",
   "id": "taken-alliance",
   "metadata": {},
   "source": [
    "## Suitable Experiment to detect changes in License purchasing\n",
    "\n",
    "- What if we wanted to detect an increase of 10 license purchases per day (up to 75 per day, or a .023 rate). How many days of data would we need to collect in order to get enough visitors to detect this new rate at an overall 5% Type I error rate and at 80% power?"
   ]
  },
  {
   "cell_type": "code",
   "execution_count": 41,
   "id": "continental-transcript",
   "metadata": {},
   "outputs": [
    {
     "data": {
      "text/plain": [
       "21.495384615384616"
      ]
     },
     "execution_count": 41,
     "metadata": {},
     "output_type": "execute_result"
    }
   ],
   "source": [
    "average_visitors_per_day = 3250\n",
    "visitors = experiment_size(0.02, 0.023, 0.025, 0.2) * 2\n",
    "# Number of visitors should be multiplied by 2, the recommended size \n",
    "# should be for the two conditions.\n",
    "days = visitors / 3250\n",
    "# 22 days\n",
    "days"
   ]
  },
  {
   "cell_type": "code",
   "execution_count": 5,
   "id": "naked-remains",
   "metadata": {},
   "outputs": [
    {
     "data": {
      "text/html": [
       "<div>\n",
       "<style scoped>\n",
       "    .dataframe tbody tr th:only-of-type {\n",
       "        vertical-align: middle;\n",
       "    }\n",
       "\n",
       "    .dataframe tbody tr th {\n",
       "        vertical-align: top;\n",
       "    }\n",
       "\n",
       "    .dataframe thead th {\n",
       "        text-align: right;\n",
       "    }\n",
       "</style>\n",
       "<table border=\"1\" class=\"dataframe\">\n",
       "  <thead>\n",
       "    <tr style=\"text-align: right;\">\n",
       "      <th></th>\n",
       "      <th>Day</th>\n",
       "      <th>Control Cookies</th>\n",
       "      <th>Control Downloads</th>\n",
       "      <th>Control Licenses</th>\n",
       "      <th>Experiment Cookies</th>\n",
       "      <th>Experiment Downloads</th>\n",
       "      <th>Experiment Licenses</th>\n",
       "    </tr>\n",
       "  </thead>\n",
       "  <tbody>\n",
       "    <tr>\n",
       "      <th>0</th>\n",
       "      <td>1</td>\n",
       "      <td>1764</td>\n",
       "      <td>246</td>\n",
       "      <td>1</td>\n",
       "      <td>1850</td>\n",
       "      <td>339</td>\n",
       "      <td>3</td>\n",
       "    </tr>\n",
       "    <tr>\n",
       "      <th>1</th>\n",
       "      <td>2</td>\n",
       "      <td>1541</td>\n",
       "      <td>234</td>\n",
       "      <td>2</td>\n",
       "      <td>1590</td>\n",
       "      <td>281</td>\n",
       "      <td>2</td>\n",
       "    </tr>\n",
       "    <tr>\n",
       "      <th>2</th>\n",
       "      <td>3</td>\n",
       "      <td>1457</td>\n",
       "      <td>240</td>\n",
       "      <td>1</td>\n",
       "      <td>1515</td>\n",
       "      <td>274</td>\n",
       "      <td>1</td>\n",
       "    </tr>\n",
       "    <tr>\n",
       "      <th>3</th>\n",
       "      <td>4</td>\n",
       "      <td>1587</td>\n",
       "      <td>224</td>\n",
       "      <td>1</td>\n",
       "      <td>1541</td>\n",
       "      <td>284</td>\n",
       "      <td>2</td>\n",
       "    </tr>\n",
       "    <tr>\n",
       "      <th>4</th>\n",
       "      <td>5</td>\n",
       "      <td>1606</td>\n",
       "      <td>253</td>\n",
       "      <td>2</td>\n",
       "      <td>1643</td>\n",
       "      <td>292</td>\n",
       "      <td>3</td>\n",
       "    </tr>\n",
       "  </tbody>\n",
       "</table>\n",
       "</div>"
      ],
      "text/plain": [
       "   Day  Control Cookies  Control Downloads  Control Licenses  \\\n",
       "0    1             1764                246                 1   \n",
       "1    2             1541                234                 2   \n",
       "2    3             1457                240                 1   \n",
       "3    4             1587                224                 1   \n",
       "4    5             1606                253                 2   \n",
       "\n",
       "   Experiment Cookies  Experiment Downloads  Experiment Licenses  \n",
       "0                1850                   339                    3  \n",
       "1                1590                   281                    2  \n",
       "2                1515                   274                    1  \n",
       "3                1541                   284                    2  \n",
       "4                1643                   292                    3  "
      ]
     },
     "execution_count": 5,
     "metadata": {},
     "output_type": "execute_result"
    }
   ],
   "source": [
    "df.head()"
   ]
  },
  {
   "cell_type": "markdown",
   "id": "stunning-component",
   "metadata": {},
   "source": [
    "## Invariant Metric\n",
    "\n",
    "- First, we should check our invariant metric, the number of cookies assigned to each group. If there is a statistically significant difference detected, then we shouldn't move on to the evaluation metrics right away. We'd need to first dig deeper to see if there was an issue with the group-assignment procedure, or if there is something about the manipulation that affected the number of cookies observed, before we feel secure about analyzing and interpreting the evaluation metrics.\n",
    "\n",
    "- What is the p-value for the test on the number of cookies assigned to each group?"
   ]
  },
  {
   "cell_type": "code",
   "execution_count": 6,
   "id": "demonstrated-quarterly",
   "metadata": {},
   "outputs": [],
   "source": [
    "import statsmodels.stats.proportion as prop_tests"
   ]
  },
  {
   "cell_type": "code",
   "execution_count": 7,
   "id": "fluid-georgia",
   "metadata": {},
   "outputs": [
    {
     "data": {
      "text/plain": [
       "Control Cookies       46851\n",
       "Experiment Cookies    47346\n",
       "dtype: int64"
      ]
     },
     "execution_count": 7,
     "metadata": {},
     "output_type": "execute_result"
    }
   ],
   "source": [
    "total_cookies = df[['Control Cookies', 'Experiment Cookies']].sum()\n",
    "total_cookies"
   ]
  },
  {
   "cell_type": "code",
   "execution_count": 42,
   "id": "italic-blogger",
   "metadata": {},
   "outputs": [
    {
     "data": {
      "text/plain": [
       "(0.4973725277875092, 0.5026274722124908)"
      ]
     },
     "execution_count": 42,
     "metadata": {},
     "output_type": "execute_result"
    }
   ],
   "source": [
    "proportion_control = total_cookies[0]/total_cookies.sum()\n",
    "proportion_exp = total_cookies[1]/total_cookies.sum()\n",
    "proportion_control, proportion_exp"
   ]
  },
  {
   "cell_type": "code",
   "execution_count": 43,
   "id": "adopted-toyota",
   "metadata": {},
   "outputs": [],
   "source": [
    "# Collect the relevant stats\n",
    "n_obs = total_cookies.sum()\n",
    "n_control = total_cookies[0]\n",
    "\n",
    "# Simulate the null\n",
    "p = 0.5\n",
    "n_trials = 200000\n",
    "samples = np.random.binomial(n_obs, p, n_trials)"
   ]
  },
  {
   "cell_type": "code",
   "execution_count": 44,
   "id": "thousand-assignment",
   "metadata": {},
   "outputs": [
    {
     "data": {
      "text/plain": [
       "0.107715"
      ]
     },
     "execution_count": 44,
     "metadata": {},
     "output_type": "execute_result"
    }
   ],
   "source": [
    "np.logical_or(samples <= n_control, samples >= (n_obs - n_control)).mean()"
   ]
  },
  {
   "cell_type": "markdown",
   "id": "neural-partition",
   "metadata": {},
   "source": [
    "- Even though there's a few hundred more cookies in the experimental group than the control group, the difference between groups isn't statistically significant. We should feel fine about moving on to test the evaluation metrics."
   ]
  },
  {
   "cell_type": "markdown",
   "id": "editorial-output",
   "metadata": {},
   "source": [
    "## Evaluation Metrics\n",
    "\n",
    "- We can move on to the evaluation metrics: download rate and license purchasing rate.\n",
    "\n",
    "- The download rate is the total number of downloads divided by the number of cookies, and the license purchasing rate the number of licenses divided by the number of cookies.\n",
    "\n"
   ]
  },
  {
   "cell_type": "markdown",
   "id": "extended-proxy",
   "metadata": {},
   "source": [
    "#### Downloads Significance"
   ]
  },
  {
   "cell_type": "code",
   "execution_count": 11,
   "id": "stunning-afghanistan",
   "metadata": {},
   "outputs": [
    {
     "data": {
      "text/plain": [
       "Control Downloads       7554\n",
       "Experiment Downloads    8548\n",
       "dtype: int64"
      ]
     },
     "execution_count": 11,
     "metadata": {},
     "output_type": "execute_result"
    }
   ],
   "source": [
    "total_downloads = df[['Control Downloads', 'Experiment Downloads']].sum()\n",
    "total_downloads"
   ]
  },
  {
   "cell_type": "code",
   "execution_count": 12,
   "id": "conservative-controversy",
   "metadata": {},
   "outputs": [
    {
     "data": {
      "text/plain": [
       "(7.870833726066236, 1.7614279636728079e-15)"
      ]
     },
     "execution_count": 12,
     "metadata": {},
     "output_type": "execute_result"
    }
   ],
   "source": [
    "prop_tests.proportions_ztest([total_downloads[1], total_downloads[0]], [\n",
    "                                          n_obs - n_control, n_control], alternative='larger')"
   ]
  },
  {
   "cell_type": "code",
   "execution_count": 45,
   "id": "valuable-voluntary",
   "metadata": {},
   "outputs": [
    {
     "data": {
      "text/plain": [
       "0.01930868281829759"
      ]
     },
     "execution_count": 45,
     "metadata": {},
     "output_type": "execute_result"
    }
   ],
   "source": [
    "rate_control = total_downloads[0]/total_cookies[0]\n",
    "rate_experiment = total_downloads[1]/total_cookies[1]\n",
    "P_value = rate_experiment - rate_control\n",
    "P_value"
   ]
  },
  {
   "cell_type": "markdown",
   "id": "light-mixer",
   "metadata": {},
   "source": [
    "**The test is Statistically Significant**"
   ]
  },
  {
   "cell_type": "markdown",
   "id": "synthetic-wrong",
   "metadata": {},
   "source": [
    "#### Purchasing Significance"
   ]
  },
  {
   "cell_type": "code",
   "execution_count": 59,
   "id": "african-wealth",
   "metadata": {},
   "outputs": [],
   "source": [
    "df_21days = df[df.Day <= 21]"
   ]
  },
  {
   "cell_type": "code",
   "execution_count": 60,
   "id": "current-graduate",
   "metadata": {},
   "outputs": [
    {
     "data": {
      "text/plain": [
       "Control Cookies       33758\n",
       "Experiment Cookies    34338\n",
       "dtype: int64"
      ]
     },
     "execution_count": 60,
     "metadata": {},
     "output_type": "execute_result"
    }
   ],
   "source": [
    "total_cookies_21days = df_21days[['Control Cookies', 'Experiment Cookies']].sum()\n",
    "total_cookies_21days"
   ]
  },
  {
   "cell_type": "code",
   "execution_count": 61,
   "id": "joint-spectrum",
   "metadata": {},
   "outputs": [
    {
     "data": {
      "text/plain": [
       "Control Licenses       710\n",
       "Experiment Licenses    732\n",
       "dtype: int64"
      ]
     },
     "execution_count": 61,
     "metadata": {},
     "output_type": "execute_result"
    }
   ],
   "source": [
    "total_purchases = df[['Control Licenses', 'Experiment Licenses']].sum()\n",
    "total_purchases"
   ]
  },
  {
   "cell_type": "code",
   "execution_count": 62,
   "id": "universal-amateur",
   "metadata": {},
   "outputs": [
    {
     "data": {
      "text/plain": [
       "(0.2586750111658684, 0.3979430008399871)"
      ]
     },
     "execution_count": 62,
     "metadata": {},
     "output_type": "execute_result"
    }
   ],
   "source": [
    "prop_tests.proportions_ztest([total_purchases[1], total_purchases[0]], \n",
    "                             [total_cookies_21days[1], total_cookies_21days[0]], alternative='larger')"
   ]
  },
  {
   "cell_type": "code",
   "execution_count": 63,
   "id": "detected-region",
   "metadata": {},
   "outputs": [
    {
     "data": {
      "text/plain": [
       "0.00028543916466129693"
      ]
     },
     "execution_count": 63,
     "metadata": {},
     "output_type": "execute_result"
    }
   ],
   "source": [
    "purchase_rate_control = total_purchases[0]/total_cookies_21days[0]\n",
    "purchase_rate_experiment = total_purchases[1]/total_cookies_21days[1]\n",
    "P_value = purchase_rate_experiment - purchase_rate_control\n",
    "P_value"
   ]
  },
  {
   "cell_type": "markdown",
   "id": "insured-terrorism",
   "metadata": {},
   "source": [
    "**The Test is Statistically Not Significant**"
   ]
  },
  {
   "cell_type": "markdown",
   "id": "concrete-penetration",
   "metadata": {},
   "source": [
    "## Draw Conclusions\n",
    "- Despite the fact that statistical significance wasn't obtained for the number of licenses purchased, the new homepage appeared to have a strong effect on the number of downloads made. Based on our goals, this seems enough to suggest replacing the old homepage with the new homepage. Establishing whether there was a significant increase in the number of license purchases, either through the rate or the increase in the number of homepage visits, will need to wait for further experiments or data collection.\n",
    "\n",
    "- One inference we might like to make is that the new homepage attracted new users who would not normally try out the program, but that these new users didn't convert to purchases at the same rate as the existing user base. This is a nice story to tell, but we can't actually say that with the data as given. In order to make this inference, we would need more detailed information about individual visitors that isn't available. However, if the software did have the capability of reporting usage statistics, that might be a way of seeing if certain profiles are more likely to purchase a license. This might then open additional ideas for improving revenue."
   ]
  },
  {
   "cell_type": "code",
   "execution_count": null,
   "id": "detailed-hollywood",
   "metadata": {},
   "outputs": [],
   "source": []
  }
 ],
 "metadata": {
  "kernelspec": {
   "display_name": "Python 3",
   "language": "python",
   "name": "python3"
  },
  "language_info": {
   "codemirror_mode": {
    "name": "ipython",
    "version": 3
   },
   "file_extension": ".py",
   "mimetype": "text/x-python",
   "name": "python",
   "nbconvert_exporter": "python",
   "pygments_lexer": "ipython3",
   "version": "3.8.8"
  },
  "toc": {
   "base_numbering": 1,
   "nav_menu": {},
   "number_sections": true,
   "sideBar": true,
   "skip_h1_title": true,
   "title_cell": "Table of Contents",
   "title_sidebar": "Contents",
   "toc_cell": true,
   "toc_position": {
    "height": "calc(100% - 180px)",
    "left": "10px",
    "top": "150px",
    "width": "384px"
   },
   "toc_section_display": true,
   "toc_window_display": true
  }
 },
 "nbformat": 4,
 "nbformat_minor": 5
}
